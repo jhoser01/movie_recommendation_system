{
 "cells": [
  {
   "cell_type": "code",
   "execution_count": 10,
   "metadata": {},
   "outputs": [],
   "source": [
    "import pandas as pd\n",
    "import numpy as np\n",
    "import ast\n",
    "import nltk\n",
    "from nltk.corpus import stopwords\n",
    "from nltk.tokenize import word_tokenize\n",
    "from sklearn.neighbors import NearestNeighbors\n",
    "from sklearn.feature_extraction.text import TfidfVectorizer\n"
   ]
  },
  {
   "cell_type": "markdown",
   "metadata": {},
   "source": [
    "<h2>Cargar el csv y regular algunas columnas</h2>"
   ]
  },
  {
   "cell_type": "code",
   "execution_count": 11,
   "metadata": {},
   "outputs": [],
   "source": [
    "#cargamos en \"data\"\n",
    "data= pd.read_csv(\"G:\\Mi unidad\\SOYHENRY\\CIENCIA DE DATOS\\CURSO\\PROYECTOS\\PI1_ML\\datasetLimpio\\datasetLimpio.csv\")"
   ]
  },
  {
   "cell_type": "code",
   "execution_count": 12,
   "metadata": {},
   "outputs": [],
   "source": [
    "#regulamos columnas que eran listas\n",
    "#definimos la función que transformará en lista todos aquellos datos que perdieron esta condición\n",
    "def obtener(celda):\n",
    "    if pd.isnull(celda):\n",
    "        return None\n",
    "    if isinstance(celda, str) and celda.startswith(\"[\") and celda.endswith(\"]\"):\n",
    "        try:\n",
    "            return ast.literal_eval(celda)\n",
    "        except (ValueError, SyntaxError):\n",
    "            return celda  # Devuelve la celda original si no se puede convertir a lista\n",
    "    return celda\n",
    "\n",
    "#aplicamos esta función a todo el dataframe\n",
    "data = data.applymap(obtener)"
   ]
  },
  {
   "cell_type": "markdown",
   "metadata": {},
   "source": [
    "<h2>Función para quitar los stopwords</h2>"
   ]
  },
  {
   "cell_type": "code",
   "execution_count": 13,
   "metadata": {},
   "outputs": [
    {
     "name": "stderr",
     "output_type": "stream",
     "text": [
      "[nltk_data] Downloading package punkt to\n",
      "[nltk_data]     C:\\Users\\jhose\\AppData\\Roaming\\nltk_data...\n",
      "[nltk_data]   Package punkt is already up-to-date!\n",
      "[nltk_data] Downloading package stopwords to\n",
      "[nltk_data]     C:\\Users\\jhose\\AppData\\Roaming\\nltk_data...\n",
      "[nltk_data]   Package stopwords is already up-to-date!\n"
     ]
    }
   ],
   "source": [
    "nltk.download('punkt')  # Descargar el tokenizer\n",
    "nltk.download('stopwords')  # Descargar las palabras vacías\n",
    "\n",
    "#función para quitar los stopwords\n",
    "def remove_stopwords(text):\n",
    "    stop_words = set(stopwords.words('english'))\n",
    "    words = word_tokenize(text)\n",
    "    filtered_words = [word for word in words if word.lower() not in stop_words]\n",
    "    return ' '.join(filtered_words)\n"
   ]
  },
  {
   "cell_type": "code",
   "execution_count": 14,
   "metadata": {},
   "outputs": [
    {
     "data": {
      "text/plain": [
       "Index(['budget', 'id', 'original_language', 'overview', 'popularity',\n",
       "       'revenue', 'runtime', 'status', 'tagline', 'title', 'vote_average',\n",
       "       'vote_count', 'release_year', 'release_month', 'release_day', 'return',\n",
       "       'nameBTC', 'name_genre', 'name_companie', 'pcountry', 'language',\n",
       "       'Director'],\n",
       "      dtype='object')"
      ]
     },
     "execution_count": 14,
     "metadata": {},
     "output_type": "execute_result"
    }
   ],
   "source": [
    "data.columns"
   ]
  },
  {
   "cell_type": "markdown",
   "metadata": {},
   "source": [
    "<h2>Matriz de entranamiento con \"TfidfVectorizer\"</h2>"
   ]
  },
  {
   "cell_type": "code",
   "execution_count": 17,
   "metadata": {},
   "outputs": [],
   "source": [
    "\n",
    "# Combinar las columnas en una nueva columna 'combinacion'\n",
    "data['combinacion'] = (\n",
    "    data['overview'] +\n",
    "    ' ' +\n",
    "    data['name_genre'].apply(lambda x: ' '.join(x) if isinstance(x, list) else '') +\n",
    "    ' ' +\n",
    "    data['nameBTC'].apply(lambda x: ' '.join(''.join(name.split()) for name in x) if isinstance(x, list) else '') +\n",
    "    ' ' +\n",
    "    data['Director'].apply(lambda x: ''.join(x.split()) if isinstance(x, str) else '') +\n",
    "    ' ' +\n",
    "    data['popularity'].astype(str) +\n",
    "    ' ' +\n",
    "    data['vote_average'].astype(str)\n",
    ")\n",
    "\n",
    "# Reemplazar NaN con cadenas vacías en la columna 'combinacion'\n",
    "data['combinacion'] = data['combinacion'].fillna('')\n",
    "\n",
    "# Crear una instancia de TfidfVectorizer para vectorizar el texto combinado\n",
    "tfidf = TfidfVectorizer(stop_words='english', ngram_range=(1, 2))\n",
    "\n",
    "# Aplicar TF-IDF al texto combinado\n",
    "matrix = tfidf.fit_transform(data['combinacion'])\n"
   ]
  },
  {
   "cell_type": "code",
   "execution_count": 18,
   "metadata": {},
   "outputs": [],
   "source": [
    "def recomendacionKNN(title):\n",
    "    # Crear una instancia del clasificador KNN\n",
    "    knn = NearestNeighbors(n_neighbors=6, metric='cosine')\n",
    "\n",
    "    # Ajustar el modelo KNN utilizando la matriz tfidf_matrix\n",
    "    knn.fit(matrix)\n",
    "\n",
    "    # Encontrar el índice de la película de entrada\n",
    "    entrada_index = data[data['title'] == title].index[0]\n",
    "\n",
    "    # Encontrar los vecinos más cercanos a la película de entrada\n",
    "    distances, indices = knn.kneighbors(matrix[entrada_index])\n",
    "\n",
    "    # Recuperar los títulos de las películas recomendadas utilizando los índices encontrados\n",
    "    recommended_movies = data.iloc[indices[0][1:]]['title']\n",
    "\n",
    "    # Devolver las películas recomendadas\n",
    "    return recommended_movies\n"
   ]
  },
  {
   "cell_type": "code",
   "execution_count": 19,
   "metadata": {},
   "outputs": [
    {
     "data": {
      "text/plain": [
       "2997                     Toy Story 2\n",
       "15350                    Toy Story 3\n",
       "10303         The 40 Year Old Virgin\n",
       "23816    Andy Hardy's Blonde Trouble\n",
       "24495                      Small Fry\n",
       "Name: title, dtype: object"
      ]
     },
     "execution_count": 19,
     "metadata": {},
     "output_type": "execute_result"
    }
   ],
   "source": [
    "#probamos el modelo\n",
    "recomendacionKNN('Toy Story')"
   ]
  }
 ],
 "metadata": {
  "kernelspec": {
   "display_name": "henry",
   "language": "python",
   "name": "python3"
  },
  "language_info": {
   "codemirror_mode": {
    "name": "ipython",
    "version": 3
   },
   "file_extension": ".py",
   "mimetype": "text/x-python",
   "name": "python",
   "nbconvert_exporter": "python",
   "pygments_lexer": "ipython3",
   "version": "3.10.9"
  },
  "orig_nbformat": 4
 },
 "nbformat": 4,
 "nbformat_minor": 2
}
